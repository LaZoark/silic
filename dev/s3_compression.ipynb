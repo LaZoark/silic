{
 "cells": [
  {
   "cell_type": "code",
   "execution_count": 1,
   "metadata": {},
   "outputs": [
    {
     "ename": "IndexError",
     "evalue": "tuple index out of range",
     "output_type": "error",
     "traceback": [
      "\u001b[0;31m---------------------------------------------------------------------------\u001b[0m",
      "\u001b[0;31mIndexError\u001b[0m                                Traceback (most recent call last)",
      "Cell \u001b[0;32mIn[1], line 37\u001b[0m\n\u001b[1;32m     34\u001b[0m     data \u001b[38;5;241m=\u001b[39m wav\u001b[38;5;241m.\u001b[39mreadframes(wav\u001b[38;5;241m.\u001b[39mgetnframes())\n\u001b[1;32m     36\u001b[0m \u001b[38;5;66;03m# 轉換.wav檔案為.flac檔案，並保存到指定的路徑\u001b[39;00m\n\u001b[0;32m---> 37\u001b[0m \u001b[43msf\u001b[49m\u001b[38;5;241;43m.\u001b[39;49m\u001b[43mwrite\u001b[49m\u001b[43m(\u001b[49m\u001b[43mflac_file\u001b[49m\u001b[43m,\u001b[49m\u001b[43m \u001b[49m\u001b[43mdata\u001b[49m\u001b[43m,\u001b[49m\u001b[43m \u001b[49m\u001b[43msample_rate\u001b[49m\u001b[43m,\u001b[49m\u001b[43m \u001b[49m\u001b[43msubtype\u001b[49m\u001b[38;5;241;43m=\u001b[39;49m\u001b[38;5;124;43m\"\u001b[39;49m\u001b[38;5;124;43mPCM_16\u001b[39;49m\u001b[38;5;124;43m\"\u001b[39;49m\u001b[43m,\u001b[49m\u001b[43m \u001b[49m\u001b[38;5;28;43mformat\u001b[39;49m\u001b[38;5;241;43m=\u001b[39;49m\u001b[38;5;124;43m\"\u001b[39;49m\u001b[38;5;124;43mFLAC\u001b[39;49m\u001b[38;5;124;43m\"\u001b[39;49m\u001b[43m)\u001b[49m\n\u001b[1;32m     39\u001b[0m \u001b[38;5;66;03m# 上傳.flac檔案到S3的指定桶和物件\u001b[39;00m\n\u001b[1;32m     40\u001b[0m \u001b[38;5;28;01mtry\u001b[39;00m:\n\u001b[1;32m     41\u001b[0m     \u001b[38;5;66;03m# 檢查桶是否存在，如果不存在，則建立一個\u001b[39;00m\n",
      "File \u001b[0;32m~/lobby/silic/.venv/lib/python3.10/site-packages/soundfile.py:342\u001b[0m, in \u001b[0;36mwrite\u001b[0;34m(file, data, samplerate, subtype, endian, format, closefd)\u001b[0m\n\u001b[1;32m    340\u001b[0m     channels \u001b[38;5;241m=\u001b[39m \u001b[38;5;241m1\u001b[39m\n\u001b[1;32m    341\u001b[0m \u001b[38;5;28;01melse\u001b[39;00m:\n\u001b[0;32m--> 342\u001b[0m     channels \u001b[38;5;241m=\u001b[39m \u001b[43mdata\u001b[49m\u001b[38;5;241;43m.\u001b[39;49m\u001b[43mshape\u001b[49m\u001b[43m[\u001b[49m\u001b[38;5;241;43m1\u001b[39;49m\u001b[43m]\u001b[49m\n\u001b[1;32m    343\u001b[0m \u001b[38;5;28;01mwith\u001b[39;00m SoundFile(file, \u001b[38;5;124m'\u001b[39m\u001b[38;5;124mw\u001b[39m\u001b[38;5;124m'\u001b[39m, samplerate, channels,\n\u001b[1;32m    344\u001b[0m                subtype, endian, \u001b[38;5;28mformat\u001b[39m, closefd) \u001b[38;5;28;01mas\u001b[39;00m f:\n\u001b[1;32m    345\u001b[0m     f\u001b[38;5;241m.\u001b[39mwrite(data)\n",
      "\u001b[0;31mIndexError\u001b[0m: tuple index out of range"
     ]
    }
   ],
   "source": [
    "# 引入所需的模組\n",
    "import wave\n",
    "import soundfile as sf\n",
    "from minio import Minio\n",
    "from minio.error import S3Error\n",
    "\n",
    "# 定義要讀取和轉換的.wav檔案的路徑\n",
    "wav_file = \"/home/lazoark/lobby/silic/dev/TT01_20210401_060000.wav\"\n",
    "\n",
    "# 定義要轉換成的.flac檔案的路徑\n",
    "flac_file = \"output.flac\"\n",
    "\n",
    "# 定義要上傳到的S3的桶名和物件名\n",
    "bucket_name = \"silic_bucket\"\n",
    "object_name = \"output.flac\"\n",
    "\n",
    "# 定義S3的連接資訊，包括端點、存取金鑰和密碼\n",
    "s3_endpoint = \"localhost:9010\"\n",
    "s3_access_key = \"admin\"\n",
    "s3_secret_key = \"987654321\"\n",
    "\n",
    "# 建立一個Minio客戶端物件\n",
    "s3_client = Minio(\n",
    "    s3_endpoint,\n",
    "    access_key=s3_access_key,\n",
    "    secret_key=s3_secret_key,\n",
    "    secure=False\n",
    ")\n",
    "\n",
    "# 讀取.wav檔案，並獲取其聲道數、採樣率和數據\n",
    "with wave.open(wav_file, \"rb\") as wav:\n",
    "    n_channels = wav.getnchannels()\n",
    "    sample_rate = wav.getframerate()\n",
    "    data = wav.readframes(wav.getnframes())\n",
    "\n",
    "# 轉換.wav檔案為.flac檔案，並保存到指定的路徑\n",
    "sf.write(flac_file, data, sample_rate, subtype=\"PCM_16\", format=\"FLAC\")\n",
    "\n",
    "# 上傳.flac檔案到S3的指定桶和物件\n",
    "try:\n",
    "    # 檢查桶是否存在，如果不存在，則建立一個\n",
    "    if not s3_client.bucket_exists(bucket_name):\n",
    "        s3_client.make_bucket(bucket_name)\n",
    "\n",
    "    # 上傳.flac檔案，並指定內容類型為audio/flac\n",
    "    s3_client.fput_object(\n",
    "        bucket_name,\n",
    "        object_name,\n",
    "        flac_file,\n",
    "        content_type=\"audio/flac\"\n",
    "    )\n",
    "\n",
    "    # 打印上傳成功的訊息\n",
    "    print(f\"檔案 {flac_file} 已成功上傳到 {bucket_name}/{object_name}\")\n",
    "\n",
    "except S3Error as err:\n",
    "    # 打印上傳失敗的錯誤訊息\n",
    "    print(f\"檔案上傳發生錯誤: {err}\")"
   ]
  }
 ],
 "metadata": {
  "kernelspec": {
   "display_name": ".venv",
   "language": "python",
   "name": "python3"
  },
  "language_info": {
   "codemirror_mode": {
    "name": "ipython",
    "version": 3
   },
   "file_extension": ".py",
   "mimetype": "text/x-python",
   "name": "python",
   "nbconvert_exporter": "python",
   "pygments_lexer": "ipython3",
   "version": "3.10.12"
  }
 },
 "nbformat": 4,
 "nbformat_minor": 2
}
